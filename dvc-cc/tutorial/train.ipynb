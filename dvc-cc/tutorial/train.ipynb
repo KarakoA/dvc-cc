{
 "cells": [
  {
   "cell_type": "code",
   "execution_count": null,
   "outputs": [],
   "source": [
    "import argparse\n",
    "parser = argparse.ArgumentParser()\n",
    "parser.add_argument('--seed', type=int,default=None)\n",
    "parser.add_argument('--num_of_hidden_layers', type=int,default=1)\n",
    "parser.add_argument('--num_of_kernels', type=int,default=64)\n",
    "parser.add_argument('--dropout_rate', type=float,default=0.2)\n",
    "parser.add_argument('--learning_rate', type=float,default=0.001)\n",
    "parser.add_argument('--activation_function', type=str,default='relu')\n",
    "parser.add_argument('--batch_size', type=int,default=1000)\n",
    "parser.add_argument('--epochs', type=int,default=2)\n",
    "parser.add_argument('--dataset', type=str,default='fashion_mnist')\n",
    "args = parser.parse_args()\n"
   ],
   "metadata": {
    "collapsed": false,
    "pycharm": {
     "name": "#%%\n"
    }
   }
  },
  {
   "cell_type": "code",
   "execution_count": null,
   "outputs": [],
   "source": [
    "import numpy as np\n",
    "if not args.seed is None:\n",
    "    np.random.seed(args.seed)\n",
    "import tensorflow as tf\n",
    "if not args.seed is None:\n",
    "    tf.random.set_seed(args.seed+100)\n",
    "import yaml\n",
    "import time\n"
   ],
   "metadata": {
    "collapsed": false,
    "pycharm": {
     "name": "#%%\n"
    }
   }
  },
  {
   "cell_type": "markdown",
   "source": [
    "### LOAD DATASET\n"
   ],
   "metadata": {
    "collapsed": false
   }
  },
  {
   "cell_type": "code",
   "execution_count": null,
   "outputs": [],
   "source": [
    "if args.dataset not in ['fashion_mnist','mnist','cifar10','cifar100']:\n",
    "    raise ValueError('Did not find a dataset with this Name.')\n",
    "\n",
    "num_of_tries = 0\n",
    "while num_of_tries < 100:\n",
    "    try:\n",
    "        if args.dataset == 'fashion_mnist':\n",
    "            (x_train, y_train), (x_test, y_test) = tf.keras.datasets.fashion_mnist.load_data()\n",
    "            num_of_tries = 99999999\n",
    "        elif args.dataset == 'mnist':\n",
    "            (x_train, y_train), (x_test, y_test) = tf.keras.datasets.mnist.load_data()\n",
    "            num_of_tries = 99999999\n",
    "        elif args.dataset == 'cifar10':\n",
    "            (x_train, y_train), (x_test, y_test) = tf.keras.datasets.cifar10.load_data()\n",
    "            num_of_tries = 99999999\n",
    "        elif args.dataset == 'cifar100':\n",
    "            (x_train, y_train), (x_test, y_test) = tf.keras.datasets.cifar100.load_data()\n",
    "            num_of_tries = 99999999\n",
    "        else:\n",
    "            raise ValueError('Did not find a dataset with this Name.')\n",
    "    except:\n",
    "        if num_of_tries < 12:\n",
    "            num_of_tries += 1\n",
    "            time.sleep(10)\n",
    "        else:\n",
    "            raise ValueError('The data could not be downloaded.')\n",
    "\n",
    "x_train, x_test = x_train / 255.0, x_test / 255.0\n"
   ],
   "metadata": {
    "collapsed": false,
    "pycharm": {
     "name": "#%%\n"
    }
   }
  },
  {
   "cell_type": "markdown",
   "source": [
    "### BUILD MODEL\n"
   ],
   "metadata": {
    "collapsed": false
   }
  },
  {
   "cell_type": "code",
   "execution_count": null,
   "outputs": [],
   "source": [
    "model = tf.keras.models.Sequential()\n",
    "model.add(tf.keras.layers.Flatten(input_shape=x_train.shape[1:]))\n",
    "for i in range(args.num_of_hidden_layers):\n",
    "    model.add(tf.keras.layers.Dense(args.num_of_kernels, activation=args.activation_function))\n",
    "    model.add(tf.keras.layers.Dropout(args.dropout_rate))\n",
    "model.add(tf.keras.layers.Dense(y_train.max()+1, activation='softmax'))\n",
    "\n",
    "model.summary()\n",
    "\n",
    "model.compile(optimizer=tf.keras.optimizers.Adam(learning_rate=args.learning_rate),\n",
    "              loss='sparse_categorical_crossentropy',\n",
    "              metrics=['acc'])\n",
    "\n",
    "callbacks = [\n",
    "  # Interrupt training if `val_loss` stops improving for over 2 epochs\n",
    "  tf.keras.callbacks.EarlyStopping(patience=100, monitor='val_loss'),\n",
    "  # Write TensorBoard logs to `./tensorboard` directory\n",
    "  tf.keras.callbacks.TensorBoard(log_dir='tensorboard'),\n",
    "  tf.keras.callbacks.ModelCheckpoint(\n",
    "            filepath='model.h5',\n",
    "            save_best_only=True,\n",
    "            monitor='val_loss',\n",
    "            verbose=2)\n",
    "]\n"
   ],
   "metadata": {
    "collapsed": false,
    "pycharm": {
     "name": "#%%\n"
    }
   }
  },
  {
   "cell_type": "markdown",
   "source": [
    "\n",
    "### TRAIN MODEL\n"
   ],
   "metadata": {
    "collapsed": false
   }
  },
  {
   "cell_type": "code",
   "execution_count": null,
   "outputs": [],
   "source": [
    "model.fit(x_train, y_train, epochs=args.epochs, batch_size=args.batch_size, validation_split=0.1,\n",
    "          callbacks=callbacks, verbose=2)"
   ],
   "metadata": {
    "collapsed": false,
    "pycharm": {
     "name": "#%%\n"
    }
   }
  },
  {
   "cell_type": "markdown",
   "source": [
    "### TEST MODEL\n",
    "\n",
    "model.evaluate(x_test, y_test, verbose=2)\n"
   ],
   "metadata": {
    "collapsed": false
   }
  },
  {
   "cell_type": "markdown",
   "source": [
    "### SAVE SUMMARY"
   ],
   "metadata": {
    "collapsed": false
   }
  },
  {
   "cell_type": "code",
   "execution_count": null,
   "outputs": [],
   "source": [
    "summary = {'loss': float(np.min(model.history.history['loss'])),\n",
    "            'val_loss': float(np.min(model.history.history['val_loss'])),\n",
    "            'acc': float(np.max(model.history.history['acc'])),\n",
    "            'val_acc': float(np.max(model.history.history['val_acc']))\n",
    "          }\n",
    "with open('summary.yml', 'w') as f:\n",
    "    yaml.dump(summary, f)\n"
   ],
   "metadata": {
    "collapsed": false,
    "pycharm": {
     "name": "#%%\n"
    }
   }
  }
 ],
 "metadata": {
  "language_info": {
   "codemirror_mode": {
    "name": "ipython",
    "version": 2
   },
   "file_extension": ".py",
   "mimetype": "text/x-python",
   "name": "python",
   "nbconvert_exporter": "python",
   "pygments_lexer": "ipython2",
   "version": "2.7.6"
  },
  "kernelspec": {
   "name": "python3",
   "language": "python",
   "display_name": "Python 3"
  },
  "pycharm": {
   "stem_cell": {
    "cell_type": "raw",
    "source": [],
    "metadata": {
     "collapsed": false
    }
   }
  }
 },
 "nbformat": 4,
 "nbformat_minor": 0
}
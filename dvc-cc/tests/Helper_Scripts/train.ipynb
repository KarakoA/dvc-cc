{
 "cells": [
  {
   "cell_type": "code",
   "execution_count": 1,
   "metadata": {
    "pycharm": {
     "is_executing": false,
     "name": "#%%\n"
    },
    "tags": [
     "parameters"
    ]
   },
   "outputs": [],
   "source": [
    "seed = 123\n",
    "num_of_hidden_layers = 3\n",
    "num_of_kernels = 64\n",
    "dropout_rate = 0.2\n",
    "learning_rate = 0.001 # one_of: 0.1, 0.01, 0.001, 0.0001\n",
    "activation_function = 'relu' # one_of: relu, sigmoid, tanh\n",
    "batch_size = 1000\n",
    "epochs = 20\n",
    "dataset = 'fashion_mnist' # one_of: fashion_mnist, mnist, cifar10, cifar100"
   ]
  },
  {
   "cell_type": "code",
   "execution_count": null,
   "metadata": {},
   "outputs": [],
   "source": [
    "import numpy as np\n",
    "if not args.seed is None:\n",
    "    np.random.seed(args.seed)\n",
    "import tensorflow as tf\n",
    "if not args.seed is None:\n",
    "    tf.random.set_seed(args.seed+100)\n",
    "import yaml\n",
    "import time"
   ]
  },
  {
   "cell_type": "code",
   "execution_count": null,
   "metadata": {
    "pycharm": {
     "name": "#%%\n"
    }
   },
   "outputs": [],
   "source": [
    "################\n",
    "### LOAD DATASET\n",
    "################\n",
    "if args.dataset not in ['fashion_mnist','mnist','cifar10','cifar100']:\n",
    "    raise ValueError('Did not find a dataset with this Name.')\n",
    "\n",
    "num_of_tries = 0\n",
    "while num_of_tries < 100:\n",
    "    try:\n",
    "        if args.dataset == 'fashion_mnist':\n",
    "            (x_train, y_train), (x_test, y_test) = tf.keras.datasets.fashion_mnist.load_data()\n",
    "            num_of_tries = 99999999\n",
    "        elif args.dataset == 'mnist':\n",
    "            (x_train, y_train), (x_test, y_test) = tf.keras.datasets.mnist.load_data()\n",
    "            num_of_tries = 99999999\n",
    "        elif args.dataset == 'cifar10':\n",
    "            (x_train, y_train), (x_test, y_test) = tf.keras.datasets.cifar10.load_data()\n",
    "            num_of_tries = 99999999\n",
    "        elif args.dataset == 'cifar100':\n",
    "            (x_train, y_train), (x_test, y_test) = tf.keras.datasets.cifar100.load_data()\n",
    "            num_of_tries = 99999999\n",
    "        else:\n",
    "            raise ValueError('Did not find a dataset with this Name.')\n",
    "    except:\n",
    "        if num_of_tries < 12:\n",
    "            num_of_tries += 1\n",
    "            time.sleep(10)\n",
    "        else:\n",
    "            raise ValueError('The data could not be downloaded.')\n",
    "\n",
    "x_train, x_test = x_train / 255.0, x_test / 255.0"
   ]
  },
  {
   "cell_type": "code",
   "execution_count": null,
   "metadata": {
    "pycharm": {
     "name": "#%%\n"
    }
   },
   "outputs": [],
   "source": [
    "model = tf.keras.models.Sequential()\n",
    "model.add(tf.keras.layers.Flatten(input_shape=x_train.shape[1:]))\n",
    "for i in range(args.num_of_hidden_layers):\n",
    "    model.add(tf.keras.layers.Dense(args.num_of_kernels, activation=args.activation_function))\n",
    "    model.add(tf.keras.layers.Dropout(args.dropout_rate))\n",
    "model.add(tf.keras.layers.Dense(y_train.max()+1, activation='softmax'))\n",
    "\n",
    "model.summary()\n",
    "\n",
    "model.compile(optimizer=tf.keras.optimizers.Adam(learning_rate=args.learning_rate),\n",
    "              loss='sparse_categorical_crossentropy',\n",
    "              metrics=['acc'])\n",
    "\n",
    "callbacks = [\n",
    "  # Interrupt training if `val_loss` stops improving for over 2 epochs\n",
    "  tf.keras.callbacks.EarlyStopping(patience=100, monitor='val_loss'),\n",
    "  # Write TensorBoard logs to `./tensorboard` directory\n",
    "  tf.keras.callbacks.TensorBoard(log_dir='tensorboard'),\n",
    "  tf.keras.callbacks.ModelCheckpoint(\n",
    "            filepath='model.h5',\n",
    "            save_best_only=True,\n",
    "            monitor='val_loss',\n",
    "            verbose=2)\n",
    "]"
   ]
  },
  {
   "cell_type": "code",
   "execution_count": 0,
   "metadata": {
    "pycharm": {
     "is_executing": false,
     "name": "#%%\n"
    }
   },
   "outputs": [],
   "source": [
    "history = model.fit(x_train, y_train, epochs=args.epochs, batch_size=args.batch_size, validation_split=0.1,\n",
    "          callbacks=callbacks, verbose=2)"
   ]
  },
  {
   "cell_type": "code",
   "execution_count": null,
   "metadata": {
    "pycharm": {
     "name": "#%%\n"
    }
   },
   "outputs": [],
   "source": [
    "model.evaluate(x_test, y_test, verbose=2)"
   ]
  },
  {
   "cell_type": "code",
   "execution_count": null,
   "metadata": {
    "pycharm": {
     "name": "#%%\n"
    }
   },
   "outputs": [],
   "source": [
    "summary = {'loss': float(np.min(history.history['loss'])),\n",
    "            'val_loss': float(np.min(history.history['val_loss'])),\n",
    "            'acc': float(np.max(history.history['acc'])),\n",
    "            'val_acc': float(np.max(history.history['val_acc']))\n",
    "          }\n",
    "\n",
    "print('I AM HERE 1+2')\n",
    "\n",
    "with open('summary.csv', 'w') as f:\n",
    "    print('Name,Value,Timestamp,Step',file=f)\n",
    "    for i in range(len(history.history['loss'])):\n",
    "        loss = history.history['loss'][i]\n",
    "        print('\"loss\",'+str(loss)+','+str(int(time.time()))+','+str(i), file=f)\n",
    "\n",
    "print('I AM HERE 3')\n",
    "\n",
    "with open('params.yml', 'w') as f:\n",
    "    print('a: 1',file=f)\n",
    "    print('a: 2',file=f)\n",
    "    print('a: 3',file=f)\n",
    "\n",
    "\n",
    "print('I AM HERE 4')"
   ]
  }
 ],
 "metadata": {
  "celltoolbar": "Tags",
  "kernelspec": {
   "display_name": "dvc-cc",
   "language": "python",
   "name": "dvc-cc"
  },
  "language_info": {
   "codemirror_mode": {
    "name": "ipython",
    "version": 3
   },
   "file_extension": ".py",
   "mimetype": "text/x-python",
   "name": "python",
   "nbconvert_exporter": "python",
   "pygments_lexer": "ipython3",
   "version": "3.7.3"
  },
  "pycharm": {
   "stem_cell": {
    "cell_type": "raw",
    "metadata": {
     "collapsed": false
    },
    "source": []
   }
  }
 },
 "nbformat": 4,
 "nbformat_minor": 2
}
